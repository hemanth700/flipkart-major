{
  "nbformat": 4,
  "nbformat_minor": 0,
  "metadata": {
    "colab": {
      "name": "sentiment analysis.ipynb",
      "provenance": [],
      "authorship_tag": "ABX9TyMiKDLqEm3oU1/DJZvq8rPg",
      "include_colab_link": true
    },
    "kernelspec": {
      "name": "python3",
      "display_name": "Python 3"
    },
    "language_info": {
      "name": "python"
    }
  },
  "cells": [
    {
      "cell_type": "markdown",
      "metadata": {
        "id": "view-in-github",
        "colab_type": "text"
      },
      "source": [
        "<a href=\"https://colab.research.google.com/github/hemanth700/flipkart-major/blob/main/sentiment_analysis.ipynb\" target=\"_parent\"><img src=\"https://colab.research.google.com/assets/colab-badge.svg\" alt=\"Open In Colab\"/></a>"
      ]
    },
    {
      "cell_type": "code",
      "metadata": {
        "id": "h0UUws0yDBgT",
        "colab": {
          "base_uri": "https://localhost:8080/"
        },
        "outputId": "f750dacb-3e66-4928-e781-57195db3b349"
      },
      "source": [
        "!pip install contractions --quiet\n",
        "!pip install vaderSentiment --quiet\n",
        "!pip install emot --quiet"
      ],
      "execution_count": 1,
      "outputs": [
        {
          "output_type": "stream",
          "text": [
            "\u001b[?25l\r\u001b[K     |█▏                              | 10kB 19.7MB/s eta 0:00:01\r\u001b[K     |██▎                             | 20kB 22.8MB/s eta 0:00:01\r\u001b[K     |███▌                            | 30kB 26.6MB/s eta 0:00:01\r\u001b[K     |████▋                           | 40kB 29.2MB/s eta 0:00:01\r\u001b[K     |█████▊                          | 51kB 10.0MB/s eta 0:00:01\r\u001b[K     |███████                         | 61kB 8.4MB/s eta 0:00:01\r\u001b[K     |████████                        | 71kB 9.3MB/s eta 0:00:01\r\u001b[K     |█████████▎                      | 81kB 10.2MB/s eta 0:00:01\r\u001b[K     |██████████▍                     | 92kB 8.2MB/s eta 0:00:01\r\u001b[K     |███████████▌                    | 102kB 8.9MB/s eta 0:00:01\r\u001b[K     |████████████▊                   | 112kB 8.9MB/s eta 0:00:01\r\u001b[K     |█████████████▉                  | 122kB 8.9MB/s eta 0:00:01\r\u001b[K     |███████████████                 | 133kB 8.9MB/s eta 0:00:01\r\u001b[K     |████████████████▏               | 143kB 8.9MB/s eta 0:00:01\r\u001b[K     |█████████████████▎              | 153kB 8.9MB/s eta 0:00:01\r\u001b[K     |██████████████████▌             | 163kB 8.9MB/s eta 0:00:01\r\u001b[K     |███████████████████▋            | 174kB 8.9MB/s eta 0:00:01\r\u001b[K     |████████████████████▉           | 184kB 8.9MB/s eta 0:00:01\r\u001b[K     |██████████████████████          | 194kB 8.9MB/s eta 0:00:01\r\u001b[K     |███████████████████████         | 204kB 8.9MB/s eta 0:00:01\r\u001b[K     |████████████████████████▎       | 215kB 8.9MB/s eta 0:00:01\r\u001b[K     |█████████████████████████▍      | 225kB 8.9MB/s eta 0:00:01\r\u001b[K     |██████████████████████████▌     | 235kB 8.9MB/s eta 0:00:01\r\u001b[K     |███████████████████████████▊    | 245kB 8.9MB/s eta 0:00:01\r\u001b[K     |████████████████████████████▉   | 256kB 8.9MB/s eta 0:00:01\r\u001b[K     |██████████████████████████████  | 266kB 8.9MB/s eta 0:00:01\r\u001b[K     |███████████████████████████████▏| 276kB 8.9MB/s eta 0:00:01\r\u001b[K     |████████████████████████████████| 286kB 8.9MB/s \n",
            "\u001b[?25h\u001b[?25l\r\u001b[K     |█                               | 10kB 16.2MB/s eta 0:00:01\r\u001b[K     |██                              | 20kB 22.0MB/s eta 0:00:01\r\u001b[K     |███                             | 30kB 27.8MB/s eta 0:00:01\r\u001b[K     |████                            | 40kB 28.0MB/s eta 0:00:01\r\u001b[K     |█████                           | 51kB 30.7MB/s eta 0:00:01\r\u001b[K     |██████▏                         | 61kB 33.5MB/s eta 0:00:01\r\u001b[K     |███████▏                        | 71kB 35.5MB/s eta 0:00:01\r\u001b[K     |████████▏                       | 81kB 34.8MB/s eta 0:00:01\r\u001b[K     |█████████▏                      | 92kB 36.4MB/s eta 0:00:01\r\u001b[K     |██████████▏                     | 102kB 38.1MB/s eta 0:00:01\r\u001b[K     |███████████▎                    | 112kB 38.1MB/s eta 0:00:01\r\u001b[K     |████████████▎                   | 122kB 38.1MB/s eta 0:00:01\r\u001b[K     |█████████████▎                  | 133kB 38.1MB/s eta 0:00:01\r\u001b[K     |██████████████▎                 | 143kB 38.1MB/s eta 0:00:01\r\u001b[K     |███████████████▎                | 153kB 38.1MB/s eta 0:00:01\r\u001b[K     |████████████████▎               | 163kB 38.1MB/s eta 0:00:01\r\u001b[K     |█████████████████▍              | 174kB 38.1MB/s eta 0:00:01\r\u001b[K     |██████████████████▍             | 184kB 38.1MB/s eta 0:00:01\r\u001b[K     |███████████████████▍            | 194kB 38.1MB/s eta 0:00:01\r\u001b[K     |████████████████████▍           | 204kB 38.1MB/s eta 0:00:01\r\u001b[K     |█████████████████████▍          | 215kB 38.1MB/s eta 0:00:01\r\u001b[K     |██████████████████████▌         | 225kB 38.1MB/s eta 0:00:01\r\u001b[K     |███████████████████████▌        | 235kB 38.1MB/s eta 0:00:01\r\u001b[K     |████████████████████████▌       | 245kB 38.1MB/s eta 0:00:01\r\u001b[K     |█████████████████████████▌      | 256kB 38.1MB/s eta 0:00:01\r\u001b[K     |██████████████████████████▌     | 266kB 38.1MB/s eta 0:00:01\r\u001b[K     |███████████████████████████▌    | 276kB 38.1MB/s eta 0:00:01\r\u001b[K     |████████████████████████████▋   | 286kB 38.1MB/s eta 0:00:01\r\u001b[K     |█████████████████████████████▋  | 296kB 38.1MB/s eta 0:00:01\r\u001b[K     |██████████████████████████████▋ | 307kB 38.1MB/s eta 0:00:01\r\u001b[K     |███████████████████████████████▋| 317kB 38.1MB/s eta 0:00:01\r\u001b[K     |████████████████████████████████| 327kB 38.1MB/s \n",
            "\u001b[?25h  Building wheel for pyahocorasick (setup.py) ... \u001b[?25l\u001b[?25hdone\n",
            "\u001b[K     |████████████████████████████████| 133kB 8.1MB/s \n",
            "\u001b[?25h"
          ],
          "name": "stdout"
        }
      ]
    },
    {
      "cell_type": "code",
      "metadata": {
        "colab": {
          "base_uri": "https://localhost:8080/"
        },
        "id": "hOdE17klbdIx",
        "outputId": "ed3f48ad-c00b-4b44-8dee-7f859adcdca4"
      },
      "source": [
        "import requests\n",
        "from bs4 import BeautifulSoup\n",
        "import pandas as pd\n",
        "\n",
        "import matplotlib.pyplot as plt\n",
        "from skimage.io import imread,imshow,imshow_collection\n",
        "\n",
        "import re\n",
        "from emot.emo_unicode import UNICODE_EMO, EMOTICONS\n",
        "import contractions\n",
        "import nltk\n",
        "from nltk.tokenize.toktok import ToktokTokenizer\n",
        "nltk.download('stopwords')\n",
        "from vaderSentiment.vaderSentiment import SentimentIntensityAnalyzer"
      ],
      "execution_count": 2,
      "outputs": [
        {
          "output_type": "stream",
          "text": [
            "[nltk_data] Downloading package stopwords to /root/nltk_data...\n",
            "[nltk_data]   Unzipping corpora/stopwords.zip.\n"
          ],
          "name": "stdout"
        }
      ]
    },
    {
      "cell_type": "code",
      "metadata": {
        "id": "AqWmUk6xbxwT"
      },
      "source": [
        "def get_urls(name):\n",
        "  links=[]\n",
        "  products=[]\n",
        "  img_links=[]\n",
        "  dic={}\n",
        "\n",
        "  try :\n",
        "    name=name.replace(' ','%20')\n",
        "  except:\n",
        "    pass\n",
        "\n",
        "  url='https://www.flipkart.com/search?q='+name+'&otracker=search&otracker1=search&marketplace=FLIPKART&as-show=on&as=off'\n",
        "  print(url)\n",
        "\n",
        "  page=requests.get(url)\n",
        "  soup=BeautifulSoup(page.content,\"html.parser\")\n",
        "\n",
        "  if soup.findAll(\"a\",attrs={\"class\":\"_1fQZEK\"}) != []:\n",
        "    for link in soup.findAll(\"a\",attrs={\"class\":\"_1fQZEK\"}):\n",
        "      n_link=link.get('href')\n",
        "      links.append(n_link)\n",
        "    for link in soup.findAll(\"img\",attrs={\"class\":\"_396cs4 _3exPp9\"}):\n",
        "      n_link=link.get('src')\n",
        "      img_links.append(n_link)\n",
        "    for product in soup.findAll(\"div\",attrs={\"class\":\"_4rR01T\"}):\n",
        "      products.append(product.get_text())\n",
        "\n",
        "  elif soup.findAll(\"a\",attrs={\"class\":\"s1Q9rs\"}) != [] :\n",
        "    for link in soup.findAll(\"a\",attrs={\"class\":\"s1Q9rs\"}):\n",
        "      n_link=link.get('href')\n",
        "      links.append(n_link)\n",
        "      products.append(link.get_text())\n",
        "    for link in soup.findAll(\"img\",attrs={\"class\":\"_396cs4 _3exPp9\"}):\n",
        "      n_link=link.get('src')\n",
        "      img_links.append(n_link)\n",
        "\n",
        "  else :\n",
        "    for link in soup.findAll(\"a\",attrs={\"class\":\"IRpwTa\"}):\n",
        "      n_link=link.get('href')\n",
        "      links.append(n_link)\n",
        "    for link in soup.findAll(\"img\",attrs={\"class\":\"_2r_T1I\"}):\n",
        "      n_link=link.get('src')\n",
        "      img_links.append(n_link)\n",
        "    for product in soup.findAll(\"div\",attrs={\"class\":\"_2WkVRV\"}):\n",
        "      products.append(product.get_text())\n",
        "\n",
        "  for i in range(len(links)):\n",
        "    links[i]=\"https://www.flipkart.com\"+links[i]\n",
        "    if img_links[i]=='':\n",
        "      img_links[i]='http://fremontgurdwara.org/wp-content/uploads/2020/06/no-image-icon-2.png'\n",
        "    dic[products[i]]=[links[i],img_links[i]]\n",
        "    \n",
        "  return dic"
      ],
      "execution_count": 3,
      "outputs": []
    },
    {
      "cell_type": "code",
      "metadata": {
        "id": "IutZG4Gfb1bx"
      },
      "source": [
        "def get_reviews(new):\n",
        "  review_link=[]\n",
        "  reviews=[]\n",
        "  url=dic[new][0]\n",
        "\n",
        "  page1=requests.get(url)\n",
        "  soup=BeautifulSoup(page1.content,\"html.parser\")\n",
        "  \n",
        "  for r in soup.findAll(\"div\",attrs={\"class\":\"t-ZTKy\"}):\n",
        "    reviews.append(r.get_text())\n",
        "  return reviews"
      ],
      "execution_count": 4,
      "outputs": []
    },
    {
      "cell_type": "code",
      "metadata": {
        "colab": {
          "base_uri": "https://localhost:8080/",
          "height": 35
        },
        "id": "mieODiArb4wb",
        "outputId": "20f1d5ae-028a-46d7-e52d-367e439f9827"
      },
      "source": [
        "# Remove HTML Tag\n",
        "def html_tag(text):\n",
        "  Soup = BeautifulSoup(text,\"html.parser\")\n",
        "  new_text = Soup.get_text()\n",
        "  return new_text\n",
        "\n",
        "html_tag('<html><h2> some important info </h2></html>')"
      ],
      "execution_count": 5,
      "outputs": [
        {
          "output_type": "execute_result",
          "data": {
            "application/vnd.google.colaboratory.intrinsic+json": {
              "type": "string"
            },
            "text/plain": [
              "' some important info '"
            ]
          },
          "metadata": {
            "tags": []
          },
          "execution_count": 5
        }
      ]
    },
    {
      "cell_type": "code",
      "metadata": {
        "colab": {
          "base_uri": "https://localhost:8080/",
          "height": 35
        },
        "id": "D-2CG_vPb8k5",
        "outputId": "634995ed-1bd9-4880-bd96-71a9a7f34c5f"
      },
      "source": [
        "# Expand Contractions\n",
        "def con(text):\n",
        "  expand= contractions.fix(text)\n",
        "  return expand\n",
        "\n",
        "con(\"I don't like you\" )"
      ],
      "execution_count": 6,
      "outputs": [
        {
          "output_type": "execute_result",
          "data": {
            "application/vnd.google.colaboratory.intrinsic+json": {
              "type": "string"
            },
            "text/plain": [
              "'I do not like you'"
            ]
          },
          "metadata": {
            "tags": []
          },
          "execution_count": 6
        }
      ]
    },
    {
      "cell_type": "code",
      "metadata": {
        "id": "JQ489UGSb_Z6"
      },
      "source": [
        "#Remove Special Characters\n",
        "def remove_sp(text):\n",
        "  pattern = r'[^A-Za-z0-9\\s]'\n",
        "  text = re.sub(pattern,'',text)\n",
        "  return text"
      ],
      "execution_count": 7,
      "outputs": []
    },
    {
      "cell_type": "code",
      "metadata": {
        "id": "Qsx4niUkdB9q"
      },
      "source": [
        "def remove_stopwords(text):\n",
        "\n",
        "  #creating a stopword list \n",
        "  stopword_list = nltk.corpus.stopwords.words('english')\n",
        "  stopword_list.remove('no')\n",
        "  stopword_list.remove('not')\n",
        "  stopword_list.append('read')\n",
        "  \n",
        "  len(stopword_list)\n",
        "\n",
        "  #removing the stop words\n",
        "  tokenizer = ToktokTokenizer()\n",
        "  tokens = tokenizer.tokenize(text)\n",
        "  tokens = [token.strip() for token in tokens]\n",
        "  filtered_tokens = [token for token in tokens if token not in stopword_list]\n",
        "  filtered_text = ' '.join(filtered_tokens)\n",
        "  return filtered_text"
      ],
      "execution_count": 8,
      "outputs": []
    },
    {
      "cell_type": "code",
      "metadata": {
        "id": "ZSW7FQ_JfIp8"
      },
      "source": [
        "def convert_emojis(text):\n",
        "  for emot in UNICODE_EMO:\n",
        "    text = text.replace(emot,' '.join(UNICODE_EMO[emot].replace(',','').replace(':','').replace('_',' ').split()))\n",
        "  return text"
      ],
      "execution_count": 22,
      "outputs": []
    },
    {
      "cell_type": "code",
      "metadata": {
        "colab": {
          "base_uri": "https://localhost:8080/"
        },
        "id": "zOH8CbUBdIjx",
        "outputId": "099e49e0-f2b6-43aa-c7ee-417284a7de48"
      },
      "source": [
        "#START OF EXECUTION\n",
        "name=input('Enter the product name : ')\n",
        "dic=get_urls(name)\n",
        "#[print(keys, ':', value) for keys,value in dic.items() ]\n",
        "[print(key) for key in dic.keys()]\n",
        "new=input(\"Copy the product name : \")\n",
        "reviews=get_reviews(new)\n",
        "\n",
        "# Done Data Acquisation\n",
        "\n",
        "for i in reviews:\n",
        "  print(i)\n",
        "  print()\n",
        "\n",
        "processed_reviews=reviews.copy()\n",
        "for i in range(len(reviews)):\n",
        "  processed_reviews[i]= reviews[i].lower()\n",
        "  processed_reviews[i]= remove_stopwords(processed_reviews[i])\n",
        "  processed_reviews[i]= html_tag(processed_reviews[i])\n",
        "  processed_reviews[i]= con(processed_reviews[i])\n",
        "  processed_reviews[i]= remove_sp(processed_reviews[i])\n",
        "  \n",
        "print('After Preprocessing\\n')\n",
        "for i in processed_reviews :\n",
        "  print(i)\n",
        "  print()\n",
        "\n",
        "# Done Preprocessing\n",
        "\n",
        "Analyze = SentimentIntensityAnalyzer()\n",
        "compound1=[]\n",
        "emoji=[]\n",
        "for x in range(len(processed_reviews)):\n",
        "  compound1.append(Analyze.polarity_scores(processed_reviews[x])['compound'])\n",
        "for x in range(len(reviews)):\n",
        "  if compound1[x]>=0.8:\n",
        "    emoji.append('\\U0001F600')\n",
        "  elif compound1[x]<0.8 and compound1[x]>0.1:\n",
        "    emoji.append('\\U0001F642')\n",
        "  elif compound1[x]<=0.1:\n",
        "    emoji.append('\\U0001F611')\n",
        "\n",
        "# Done Sentimental Analysis'''"
      ],
      "execution_count": 21,
      "outputs": [
        {
          "output_type": "stream",
          "text": [
            "Enter the product name : dress\n",
            "https://www.flipkart.com/search?q=dress&otracker=search&otracker1=search&marketplace=FLIPKART&as-show=on&as=off\n",
            "Fashion2wear\n",
            "Rangun\n",
            "Tamina\n",
            "Micozy\n",
            "dyrectdeals\n",
            "Selvia\n",
            "Radius Export/Import\n",
            "SHEETAL ASSOCIATES\n",
            "Daevish\n",
            "METRO-FASHION\n",
            "Oomph!\n",
            "FTC FASHIONS\n",
            "fasense\n",
            "VSkin\n",
            "HARPA\n",
            "Purshottam Wala\n",
            "yashvi trends\n",
            "Rudraaksha\n",
            "Kannan\n",
            "Adesa\n",
            "STYLESTONE\n",
            "Copy the product name : Rudraaksha\n",
            "5It is really amazing..comfy stuff..very satisfied with this..READ MORE\n",
            "\n",
            "5nice dress....READ MORE\n",
            "\n",
            "4Same as shown in picture ☺️READ MORE\n",
            "\n",
            "After Preprocessing\n",
            "\n",
            "5it really amazing  comfy stuff  satisfied \n",
            "\n",
            "5nice dress \n",
            "\n",
            "4same shown picture read\n",
            "\n"
          ],
          "name": "stdout"
        }
      ]
    },
    {
      "cell_type": "code",
      "metadata": {
        "colab": {
          "base_uri": "https://localhost:8080/",
          "height": 35
        },
        "id": "XQ_BKZnrfcIB",
        "outputId": "e8e668f3-d463-4f85-fe02-a2e362f41655"
      },
      "source": [
        "'''\n",
        "compound score > 0.5 positive\n",
        "compound score < -0.5 negative\n",
        "compound score > -0.5 and compound score < 0.5 neutral\n",
        "'''"
      ],
      "execution_count": 24,
      "outputs": [
        {
          "output_type": "execute_result",
          "data": {
            "application/vnd.google.colaboratory.intrinsic+json": {
              "type": "string"
            },
            "text/plain": [
              "'\\ncompound score > 0.5 positive\\ncompound score < -0.5 negative\\ncompound score > -0.5 and compound score < 0.5 neutral\\n'"
            ]
          },
          "metadata": {
            "tags": []
          },
          "execution_count": 24
        }
      ]
    },
    {
      "cell_type": "code",
      "metadata": {
        "id": "iG_2Xv0Lfc8l"
      },
      "source": [
        "!pip freeze > requirement.txt"
      ],
      "execution_count": 25,
      "outputs": []
    },
    {
      "cell_type": "code",
      "metadata": {
        "colab": {
          "base_uri": "https://localhost:8080/"
        },
        "id": "E7lZye5gfhrd",
        "outputId": "527ddfd1-2840-46d3-fc62-a57fa73ea69c"
      },
      "source": [
        "!ls"
      ],
      "execution_count": 26,
      "outputs": [
        {
          "output_type": "stream",
          "text": [
            "requirement.txt  sample_data\n"
          ],
          "name": "stdout"
        }
      ]
    },
    {
      "cell_type": "code",
      "metadata": {
        "id": "2kKyT90BfjMV"
      },
      "source": [
        ""
      ],
      "execution_count": null,
      "outputs": []
    }
  ]
}